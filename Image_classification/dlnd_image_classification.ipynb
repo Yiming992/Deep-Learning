{
 "cells": [
  {
   "cell_type": "markdown",
   "metadata": {
    "collapsed": true
   },
   "source": [
    "# Image Classification\n",
    "In this project, you'll classify images from the [CIFAR-10 dataset](https://www.cs.toronto.edu/~kriz/cifar.html).  The dataset consists of airplanes, dogs, cats, and other objects. You'll preprocess the images, then train a convolutional neural network on all the samples. The images need to be normalized and the labels need to be one-hot encoded.  You'll get to apply what you learned and build a convolutional, max pooling, dropout, and fully connected layers.  At the end, you'll get to see your neural network's predictions on the sample images.\n",
    "## Get the Data\n",
    "Run the following cell to download the [CIFAR-10 dataset for python](https://www.cs.toronto.edu/~kriz/cifar-10-python.tar.gz)."
   ]
  },
  {
   "cell_type": "code",
   "execution_count": 1,
   "metadata": {},
   "outputs": [
    {
     "name": "stderr",
     "output_type": "stream",
     "text": [
      "CIFAR-10 Dataset: 171MB [00:42, 3.97MB/s]                                                                              \n"
     ]
    },
    {
     "name": "stdout",
     "output_type": "stream",
     "text": [
      "All files found!\n"
     ]
    }
   ],
   "source": [
    "\"\"\"\n",
    "DON'T MODIFY ANYTHING IN THIS CELL THAT IS BELOW THIS LINE\n",
    "\"\"\"\n",
    "from urllib.request import urlretrieve\n",
    "from os.path import isfile, isdir\n",
    "from tqdm import tqdm\n",
    "import problem_unittests as tests\n",
    "import tarfile\n",
    "\n",
    "cifar10_dataset_folder_path = 'cifar-10-batches-py'\n",
    "\n",
    "# Use Floyd's cifar-10 dataset if present\n",
    "floyd_cifar10_location = '/input/cifar-10/python.tar.gz'\n",
    "if isfile(floyd_cifar10_location):\n",
    "    tar_gz_path = floyd_cifar10_location\n",
    "else:\n",
    "    tar_gz_path = 'cifar-10-python.tar.gz'\n",
    "\n",
    "class DLProgress(tqdm):\n",
    "    last_block = 0\n",
    "\n",
    "    def hook(self, block_num=1, block_size=1, total_size=None):\n",
    "        self.total = total_size\n",
    "        self.update((block_num - self.last_block) * block_size)\n",
    "        self.last_block = block_num\n",
    "\n",
    "if not isfile(tar_gz_path):\n",
    "    with DLProgress(unit='B', unit_scale=True, miniters=1, desc='CIFAR-10 Dataset') as pbar:\n",
    "        urlretrieve(\n",
    "            'https://www.cs.toronto.edu/~kriz/cifar-10-python.tar.gz',\n",
    "            tar_gz_path,\n",
    "            pbar.hook)\n",
    "\n",
    "if not isdir(cifar10_dataset_folder_path):\n",
    "    with tarfile.open(tar_gz_path) as tar:\n",
    "        tar.extractall()\n",
    "        tar.close()\n",
    "\n",
    "\n",
    "tests.test_folder_path(cifar10_dataset_folder_path)"
   ]
  },
  {
   "cell_type": "markdown",
   "metadata": {},
   "source": [
    "## Explore the Data\n",
    "The dataset is broken into batches to prevent your machine from running out of memory.  The CIFAR-10 dataset consists of 5 batches, named `data_batch_1`, `data_batch_2`, etc.. Each batch contains the labels and images that are one of the following:\n",
    "* airplane\n",
    "* automobile\n",
    "* bird\n",
    "* cat\n",
    "* deer\n",
    "* dog\n",
    "* frog\n",
    "* horse\n",
    "* ship\n",
    "* truck\n",
    "\n",
    "Understanding a dataset is part of making predictions on the data.  Play around with the code cell below by changing the `batch_id` and `sample_id`. The `batch_id` is the id for a batch (1-5). The `sample_id` is the id for a image and label pair in the batch.\n",
    "\n",
    "Ask yourself \"What are all possible labels?\", \"What is the range of values for the image data?\", \"Are the labels in order or random?\".  Answers to questions like these will help you preprocess the data and end up with better predictions."
   ]
  },
  {
   "cell_type": "code",
   "execution_count": 2,
   "metadata": {},
   "outputs": [
    {
     "name": "stdout",
     "output_type": "stream",
     "text": [
      "\n",
      "Stats of batch 1:\n",
      "Samples: 10000\n",
      "Label Counts: {0: 1005, 1: 974, 2: 1032, 3: 1016, 4: 999, 5: 937, 6: 1030, 7: 1001, 8: 1025, 9: 981}\n",
      "First 20 Labels: [6, 9, 9, 4, 1, 1, 2, 7, 8, 3, 4, 7, 7, 2, 9, 9, 9, 3, 2, 6]\n",
      "\n",
      "Example of Image 5:\n",
      "Image - Min Value: 0 Max Value: 252\n",
      "Image - Shape: (32, 32, 3)\n",
      "Label - Label Id: 1 Name: automobile\n"
     ]
    },
    {
     "data": {
      "image/png": "[encoded data removed]",
      "text/plain": [
       "<matplotlib.figure.Figure at 0x29cbb7eb4a8>"
      ]
     },
     "metadata": {
      "image/png": {
       "height": 250,
       "width": 253
      }
     },
     "output_type": "display_data"
    }
   ],
   "source": [
    "%matplotlib inline\n",
    "%config InlineBackend.figure_format = 'retina'\n",
    "\n",
    "import helper\n",
    "import numpy as np\n",
    "\n",
    "# Explore the dataset\n",
    "batch_id = 1\n",
    "sample_id = 5\n",
    "helper.display_stats(cifar10_dataset_folder_path, batch_id, sample_id)"
   ]
  },
  {
   "cell_type": "markdown",
   "metadata": {},
   "source": [
    "## Implement Preprocess Functions\n",
    "### Normalize\n",
    "In the cell below, implement the `normalize` function to take in image data, `x`, and return it as a normalized Numpy array. The values should be in the range of 0 to 1, inclusive.  The return object should be the same shape as `x`."
   ]
  },
  {
   "cell_type": "code",
   "execution_count": 7,
   "metadata": {},
   "outputs": [
    {
     "name": "stdout",
     "output_type": "stream",
     "text": [
      "Tests Passed\n"
     ]
    }
   ],
   "source": [
    "def normalize(x):\n",
    "    \"\"\"\n",
    "    Normalize a list of sample image data in the range of 0 to 1\n",
    "    : x: List of image data.  The image shape is (32, 32, 3)\n",
    "    : return: Numpy array of normalize data\n",
    "    \"\"\"\n",
    "    # TODO: Implement Function\n",
    "    Max=np.max(x,axis=0)\n",
    "    Min=np.min(x,axis=0)\n",
    "    return (x-Min)/(Max-Min)\n",
    "\n",
    "\n",
    "\"\"\"\n",
    "DON'T MODIFY ANYTHING IN THIS CELL THAT IS BELOW THIS LINE\n",
    "\"\"\"\n",
    "tests.test_normalize(normalize)"
   ]
  },
  {
   "cell_type": "markdown",
   "metadata": {},
   "source": [
    "### One-hot encode\n",
    "Just like the previous code cell, you'll be implementing a function for preprocessing.  This time, you'll implement the `one_hot_encode` function. The input, `x`, are a list of labels.  Implement the function to return the list of labels as One-Hot encoded Numpy array.  The possible values for labels are 0 to 9. The one-hot encoding function should return the same encoding for each value between each call to `one_hot_encode`.  Make sure to save the map of encodings outside the function.\n",
    "\n",
    "Hint: Don't reinvent the wheel."
   ]
  },
  {
   "cell_type": "code",
   "execution_count": 15,
   "metadata": {},
   "outputs": [
    {
     "name": "stdout",
     "output_type": "stream",
     "text": [
      "Tests Passed\n"
     ]
    }
   ],
   "source": [
    "def one_hot_encode(x):\n",
    "    \"\"\"\n",
    "    One hot encode a list of sample labels. Return a one-hot encoded vector for each label.\n",
    "    : x: List of sample Labels\n",
    "    : return: Numpy array of one-hot encoded labels\n",
    "    \"\"\"\n",
    "    # TODO: Implement Function\n",
    "    sample_size=len(x)\n",
    "    one_hot=np.zeros([sample_size,10])\n",
    "    for i in range(sample_size):\n",
    "        one_hot[i,x[i]]=1\n",
    "    return one_hot\n",
    "\n",
    "\n",
    "\"\"\"\n",
    "DON'T MODIFY ANYTHING IN THIS CELL THAT IS BELOW THIS LINE\n",
    "\"\"\"\n",
    "tests.test_one_hot_encode(one_hot_encode)"
   ]
  },
  {
   "cell_type": "markdown",
   "metadata": {},
   "source": [
    "### Randomize Data\n",
    "As you saw from exploring the data above, the order of the samples are randomized.  It doesn't hurt to randomize it again, but you don't need to for this dataset."
   ]
  },
  {
   "cell_type": "markdown",
   "metadata": {},
   "source": [
    "## Preprocess all the data and save it\n",
    "Running the code cell below will preprocess all the CIFAR-10 data and save it to file. The code below also uses 10% of the training data for validation."
   ]
  },
  {
   "cell_type": "code",
   "execution_count": 16,
   "metadata": {},
   "outputs": [],
   "source": [
    "\"\"\"\n",
    "DON'T MODIFY ANYTHING IN THIS CELL\n",
    "\"\"\"\n",
    "# Preprocess Training, Validation, and Testing Data\n",
    "helper.preprocess_and_save_data(cifar10_dataset_folder_path, normalize, one_hot_encode)"
   ]
  },
  {
   "cell_type": "markdown",
   "metadata": {},
   "source": [
    "# Check Point\n",
    "This is your first checkpoint.  If you ever decide to come back to this notebook or have to restart the notebook, you can start from here.  The preprocessed data has been saved to disk."
   ]
  },
  {
   "cell_type": "code",
   "execution_count": 17,
   "metadata": {
    "collapsed": true
   },
   "outputs": [],
   "source": [
    "\"\"\"\n",
    "DON'T MODIFY ANYTHING IN THIS CELL\n",
    "\"\"\"\n",
    "import pickle\n",
    "import problem_unittests as tests\n",
    "import helper\n",
    "\n",
    "# Load the Preprocessed Validation data\n",
    "valid_features, valid_labels = pickle.load(open('preprocess_validation.p', mode='rb'))"
   ]
  },
  {
   "cell_type": "markdown",
   "metadata": {},
   "source": [
    "## Build the network\n",
    "For the neural network, you'll build each layer into a function.  Most of the code you've seen has been outside of functions. To test your code more thoroughly, we require that you put each layer in a function.  This allows us to give you better feedback and test for simple mistakes using our unittests before you submit your project.\n",
    "\n",
    ">**Note:** If you're finding it hard to dedicate enough time for this course each week, we've provided a small shortcut to this part of the project. In the next couple of problems, you'll have the option to use classes from the [TensorFlow Layers](https://www.tensorflow.org/api_docs/python/tf/layers) or [TensorFlow Layers (contrib)](https://www.tensorflow.org/api_guides/python/contrib.layers) packages to build each layer, except the layers you build in the \"Convolutional and Max Pooling Layer\" section.  TF Layers is similar to Keras's and TFLearn's abstraction to layers, so it's easy to pickup.\n",
    "\n",
    ">However, if you would like to get the most out of this course, try to solve all the problems _without_ using anything from the TF Layers packages. You **can** still use classes from other packages that happen to have the same name as ones you find in TF Layers! For example, instead of using the TF Layers version of the `conv2d` class, [tf.layers.conv2d](https://www.tensorflow.org/api_docs/python/tf/layers/conv2d), you would want to use the TF Neural Network version of `conv2d`, [tf.nn.conv2d](https://www.tensorflow.org/api_docs/python/tf/nn/conv2d). \n",
    "\n",
    "Let's begin!\n",
    "\n",
    "### Input\n",
    "The neural network needs to read the image data, one-hot encoded labels, and dropout keep probability. Implement the following functions\n",
    "* Implement `neural_net_image_input`\n",
    " * Return a [TF Placeholder](https://www.tensorflow.org/api_docs/python/tf/placeholder)\n",
    " * Set the shape using `image_shape` with batch size set to `None`.\n",
    " * Name the TensorFlow placeholder \"x\" using the TensorFlow `name` parameter in the [TF Placeholder](https://www.tensorflow.org/api_docs/python/tf/placeholder).\n",
    "* Implement `neural_net_label_input`\n",
    " * Return a [TF Placeholder](https://www.tensorflow.org/api_docs/python/tf/placeholder)\n",
    " * Set the shape using `n_classes` with batch size set to `None`.\n",
    " * Name the TensorFlow placeholder \"y\" using the TensorFlow `name` parameter in the [TF Placeholder](https://www.tensorflow.org/api_docs/python/tf/placeholder).\n",
    "* Implement `neural_net_keep_prob_input`\n",
    " * Return a [TF Placeholder](https://www.tensorflow.org/api_docs/python/tf/placeholder) for dropout keep probability.\n",
    " * Name the TensorFlow placeholder \"keep_prob\" using the TensorFlow `name` parameter in the [TF Placeholder](https://www.tensorflow.org/api_docs/python/tf/placeholder).\n",
    "\n",
    "These names will be used at the end of the project to load your saved model.\n",
    "\n",
    "Note: `None` for shapes in TensorFlow allow for a dynamic size."
   ]
  },
  {
   "cell_type": "code",
   "execution_count": 84,
   "metadata": {},
   "outputs": [
    {
     "name": "stdout",
     "output_type": "stream",
     "text": [
      "Image Input Tests Passed.\n",
      "Label Input Tests Passed.\n",
      "Keep Prob Tests Passed.\n"
     ]
    }
   ],
   "source": [
    "import tensorflow as tf\n",
    "\n",
    "def neural_net_image_input(image_shape):\n",
    "    \"\"\"\n",
    "    Return a Tensor for a batch of image input\n",
    "    : image_shape: Shape of the images\n",
    "    : return: Tensor for image input.\n",
    "    \"\"\"\n",
    "    # TODO: Implement Function\n",
    "    Inputs=tf.placeholder(tf.float32,[None,image_shape[0],image_shape[1],image_shape[2]],name='x')\n",
    "    return Inputs\n",
    "\n",
    "\n",
    "def neural_net_label_input(n_classes):\n",
    "    \"\"\"\n",
    "    Return a Tensor for a batch of label input\n",
    "    : n_classes: Number of classes\n",
    "    : return: Tensor for label input.\n",
    "    \"\"\"\n",
    "    # TODO: Implement Function\n",
    "    Labels=tf.placeholder(tf.float32,[None,n_classes],name='y')\n",
    "    return Labels\n",
    "\n",
    "\n",
    "def neural_net_keep_prob_input():\n",
    "    \"\"\"\n",
    "    Return a Tensor for keep probability\n",
    "    : return: Tensor for keep probability.\n",
    "    \"\"\"\n",
    "    # TODO: Implement Function\n",
    "    keep_prob=tf.placeholder(tf.float32,name='keep_prob')\n",
    "    return keep_prob\n",
    "\n",
    "\n",
    "\"\"\"\n",
    "DON'T MODIFY ANYTHING IN THIS CELL THAT IS BELOW THIS LINE\n",
    "\"\"\"\n",
    "tf.reset_default_graph()\n",
    "tests.test_nn_image_inputs(neural_net_image_input)\n",
    "tests.test_nn_label_inputs(neural_net_label_input)\n",
    "tests.test_nn_keep_prob_inputs(neural_net_keep_prob_input)"
   ]
  },
  {
   "cell_type": "markdown",
   "metadata": {},
   "source": [
    "### Convolution and Max Pooling Layer\n",
    "Convolution layers have a lot of success with images. For this code cell, you should implement the function `conv2d_maxpool` to apply convolution then max pooling:\n",
    "* Create the weight and bias using `conv_ksize`, `conv_num_outputs` and the shape of `x_tensor`.\n",
    "* Apply a convolution to `x_tensor` using weight and `conv_strides`.\n",
    " * We recommend you use same padding, but you're welcome to use any padding.\n",
    "* Add bias\n",
    "* Add a nonlinear activation to the convolution.\n",
    "* Apply Max Pooling using `pool_ksize` and `pool_strides`.\n",
    " * We recommend you use same padding, but you're welcome to use any padding.\n",
    "\n",
    "**Note:** You **can't** use [TensorFlow Layers](https://www.tensorflow.org/api_docs/python/tf/layers) or [TensorFlow Layers (contrib)](https://www.tensorflow.org/api_guides/python/contrib.layers) for **this** layer, but you can still use TensorFlow's [Neural Network](https://www.tensorflow.org/api_docs/python/tf/nn) package. You may still use the shortcut option for all the **other** layers."
   ]
  },
  {
   "cell_type": "code",
   "execution_count": 93,
   "metadata": {
    "collapsed": true
   },
   "outputs": [],
   "source": [
    "tf.reset_default_graph()"
   ]
  },
  {
   "cell_type": "code",
   "execution_count": 85,
   "metadata": {},
   "outputs": [
    {
     "name": "stdout",
     "output_type": "stream",
     "text": [
      "Tests Passed\n"
     ]
    }
   ],
   "source": [
    "def conv2d_maxpool(x_tensor, conv_num_outputs, conv_ksize, conv_strides, pool_ksize, pool_strides):\n",
    "    \"\"\"\n",
    "    Apply convolution then max pooling to x_tensor\n",
    "    :param x_tensor: TensorFlow Tensor\n",
    "    :param conv_num_outputs: Number of outputs for the convolutional layer\n",
    "    :param conv_ksize: kernal size 2-D Tuple for the convolutional layer\n",
    "    :param conv_strides: Stride 2-D Tuple for convolution\n",
    "    :param pool_ksize: kernal size 2-D Tuple for pool\n",
    "    :param pool_strides: Stride 2-D Tuple for pool\n",
    "    : return: A tensor that represents convolution and max pooling of x_tensor\n",
    "    \"\"\"\n",
    "    # TODO: Implement Function\n",
    "    Fan_in=(x_tensor.get_shape().as_list()[1])*(x_tensor.get_shape().as_list()[2])*(x_tensor.get_shape().as_list()[3])\n",
    "    in_channels=x_tensor.get_shape().as_list()[-1]\n",
    "    filter_height=conv_ksize[0]\n",
    "    filter_width=conv_ksize[1]\n",
    "    weights=tf.Variable(tf.truncated_normal([filter_height,filter_width,in_channels,\n",
    "                                             conv_num_outputs],\n",
    "                                            stddev=np.sqrt(2/Fan_in)))\n",
    "    bias=tf.Variable(tf.zeros([conv_num_outputs]))\n",
    "    Conv=tf.nn.conv2d(x_tensor,weights,strides=[1,conv_strides[0],conv_strides[1],1],padding='SAME')\n",
    "    Conv=tf.nn.bias_add(Conv,bias)\n",
    "    Conv=tf.nn.relu(Conv)\n",
    "    Conv_MaxPool=tf.nn.max_pool(Conv,ksize=[1,pool_ksize[0],pool_ksize[1],1],strides=[1,pool_strides[0],pool_strides[1],1],padding='VALID')\n",
    "    \n",
    "    return  Conv_MaxPool\n",
    "\n",
    "\n",
    "\"\"\"\n",
    "DON'T MODIFY ANYTHING IN THIS CELL THAT IS BELOW THIS LINE\n",
    "\"\"\"\n",
    "tests.test_con_pool(conv2d_maxpool)"
   ]
  },
  {
   "cell_type": "markdown",
   "metadata": {},
   "source": [
    "### Flatten Layer\n",
    "Implement the `flatten` function to change the dimension of `x_tensor` from a 4-D tensor to a 2-D tensor.  The output should be the shape (*Batch Size*, *Flattened Image Size*). Shortcut option: you can use classes from the [TensorFlow Layers](https://www.tensorflow.org/api_docs/python/tf/layers) or [TensorFlow Layers (contrib)](https://www.tensorflow.org/api_guides/python/contrib.layers) packages for this layer. For more of a challenge, only use other TensorFlow packages."
   ]
  },
  {
   "cell_type": "code",
   "execution_count": 86,
   "metadata": {},
   "outputs": [
    {
     "name": "stdout",
     "output_type": "stream",
     "text": [
      "Tests Passed\n"
     ]
    }
   ],
   "source": [
    "def flatten(x_tensor):\n",
    "    \"\"\"\n",
    "    Flatten x_tensor to (Batch Size, Flattened Image Size)\n",
    "    : x_tensor: A tensor of size (Batch Size, ...), where ... are the image dimensions.\n",
    "    : return: A tensor of size (Batch Size, Flattened Image Size).\n",
    "    \"\"\"\n",
    "    # TODO: Implement Function\n",
    "    dim1=x_tensor.get_shape().as_list()[1]\n",
    "    dim2=x_tensor.get_shape().as_list()[2]\n",
    "    dim3=x_tensor.get_shape().as_list()[3]\n",
    "    x_flat=tf.reshape(x_tensor,[-1,dim1*dim2*dim3])\n",
    "    return x_flat\n",
    "\n",
    "\n",
    "\"\"\"\n",
    "DON'T MODIFY ANYTHING IN THIS CELL THAT IS BELOW THIS LINE\n",
    "\"\"\"\n",
    "tests.test_flatten(flatten)"
   ]
  },
  {
   "cell_type": "markdown",
   "metadata": {},
   "source": [
    "### Fully-Connected Layer\n",
    "Implement the `fully_conn` function to apply a fully connected layer to `x_tensor` with the shape (*Batch Size*, *num_outputs*). Shortcut option: you can use classes from the [TensorFlow Layers](https://www.tensorflow.org/api_docs/python/tf/layers) or [TensorFlow Layers (contrib)](https://www.tensorflow.org/api_guides/python/contrib.layers) packages for this layer. For more of a challenge, only use other TensorFlow packages."
   ]
  },
  {
   "cell_type": "code",
   "execution_count": 87,
   "metadata": {},
   "outputs": [
    {
     "name": "stdout",
     "output_type": "stream",
     "text": [
      "Tests Passed\n"
     ]
    }
   ],
   "source": [
    "def fully_conn(x_tensor, num_outputs):\n",
    "    \"\"\"\n",
    "    Apply a fully connected layer to x_tensor using weight and bias\n",
    "    : x_tensor: A 2-D tensor where the first dimension is batch size.\n",
    "    : num_outputs: The number of output that the new tensor should be.\n",
    "    : return: A 2-D tensor where the second dimension is num_outputs.\n",
    "    \"\"\"\n",
    "    # TODO: Implement Function\n",
    "    Fan_in=x_tensor.get_shape().as_list()[1]\n",
    "    weights=tf.Variable(tf.truncated_normal([Fan_in,num_outputs],stddev=np.sqrt(2/Fan_in)))\n",
    "    bias=tf.Variable(tf.zeros([num_outputs]))\n",
    "    ful_con=tf.matmul(x_tensor,weights)+bias\n",
    "    ful_con=tf.nn.relu(ful_con)\n",
    "    return ful_con\n",
    "\n",
    "\n",
    "\"\"\"\n",
    "DON'T MODIFY ANYTHING IN THIS CELL THAT IS BELOW THIS LINE\n",
    "\"\"\"\n",
    "tests.test_fully_conn(fully_conn)"
   ]
  },
  {
   "cell_type": "markdown",
   "metadata": {},
   "source": [
    "### Output Layer\n",
    "Implement the `output` function to apply a fully connected layer to `x_tensor` with the shape (*Batch Size*, *num_outputs*). Shortcut option: you can use classes from the [TensorFlow Layers](https://www.tensorflow.org/api_docs/python/tf/layers) or [TensorFlow Layers (contrib)](https://www.tensorflow.org/api_guides/python/contrib.layers) packages for this layer. For more of a challenge, only use other TensorFlow packages.\n",
    "\n",
    "**Note:** Activation, softmax, or cross entropy should **not** be applied to this."
   ]
  },
  {
   "cell_type": "code",
   "execution_count": 88,
   "metadata": {},
   "outputs": [
    {
     "name": "stdout",
     "output_type": "stream",
     "text": [
      "Tests Passed\n"
     ]
    }
   ],
   "source": [
    "def output(x_tensor, num_outputs):\n",
    "    \"\"\"\n",
    "    Apply a output layer to x_tensor using weight and bias\n",
    "    : x_tensor: A 2-D tensor where the first dimension is batch size.\n",
    "    : num_outputs: The number of output that the new tensor should be.\n",
    "    : return: A 2-D tensor where the second dimension is num_outputs.\n",
    "    \"\"\"\n",
    "    # TODO: Implement Function\n",
    "    Fan_in=x_tensor.get_shape().as_list()[1]\n",
    "    weights=tf.Variable(tf.truncated_normal([Fan_in,num_outputs],stddev=np.sqrt(1/Fan_in)))\n",
    "    bias=tf.Variable(tf.zeros([num_outputs]))\n",
    "    Outputs=tf.matmul(x_tensor,weights)+bias\n",
    "    \n",
    "    return Outputs\n",
    "\n",
    "\n",
    "\"\"\"\n",
    "DON'T MODIFY ANYTHING IN THIS CELL THAT IS BELOW THIS LINE\n",
    "\"\"\"\n",
    "tests.test_output(output)"
   ]
  },
  {
   "cell_type": "markdown",
   "metadata": {},
   "source": [
    "### Create Convolutional Model\n",
    "Implement the function `conv_net` to create a convolutional neural network model. The function takes in a batch of images, `x`, and outputs logits.  Use the layers you created above to create this model:\n",
    "\n",
    "* Apply 1, 2, or 3 Convolution and Max Pool layers\n",
    "* Apply a Flatten Layer\n",
    "* Apply 1, 2, or 3 Fully Connected Layers\n",
    "* Apply an Output Layer\n",
    "* Return the output\n",
    "* Apply [TensorFlow's Dropout](https://www.tensorflow.org/api_docs/python/tf/nn/dropout) to one or more layers in the model using `keep_prob`. "
   ]
  },
  {
   "cell_type": "code",
   "execution_count": 94,
   "metadata": {},
   "outputs": [
    {
     "name": "stdout",
     "output_type": "stream",
     "text": [
      "Neural Network Built!\n"
     ]
    }
   ],
   "source": [
    "def conv_net(x, keep_prob):\n",
    "    \"\"\"\n",
    "    Create a convolutional neural network model\n",
    "    : x: Placeholder tensor that holds image data.\n",
    "    : keep_prob: Placeholder tensor that hold dropout keep probability.\n",
    "    : return: Tensor that represents logits\n",
    "    \"\"\"\n",
    "    # TODO: Apply 1, 2, or 3 Convolution and Max Pool layers\n",
    "    #    Play around with different number of outputs, kernel size and stride\n",
    "    # Function Definition from Above:\n",
    "    with tf.name_scope('Conv_Max_Pool_1') as scope:\n",
    "        CONV_1=conv2d_maxpool(x, 16, (5,5), (1,1), (2,2), (2,2))\n",
    "    with tf.name_scope('Dropout_1') as scope:\n",
    "        Dropout_1=tf.nn.dropout(CONV_1,keep_prob)\n",
    "    with tf.name_scope('Conv_Max_pool_2') as scope:\n",
    "        CONV_2=conv2d_maxpool(Dropout_1, 32, (3,3), (1,1), (2,2), (2,2))\n",
    "    with tf.name_scope('Dropout_2') as scope:\n",
    "        Dropout_2=tf.nn.dropout(CONV_2,keep_prob)\n",
    "    \n",
    "\n",
    "    # TODO: Apply a Flatten Layer\n",
    "    # Function Definition from Above:\n",
    "    with tf.name_scope('Flatten_Layer') as scope:\n",
    "        \n",
    "        Flat=flatten(Dropout_2)\n",
    "    \n",
    "\n",
    "    # TODO: Apply 1, 2, or 3 Fully Connected Layers\n",
    "    with tf.name_scope('Fully_Connected_1') as scope:\n",
    "        \n",
    "        ful_con=fully_conn(Flat, 128)\n",
    "    #    Play around with different number of outputs\n",
    "    # Function Definition from Above:\n",
    "    #   fully_conn(x_tensor, num_outputs)\n",
    "    \n",
    "    \n",
    "    # TODO: Apply an Output Layer\n",
    "    with tf.name_scope('Output') as scope:\n",
    "        \n",
    "        Output=output(ful_con, 10)\n",
    "    #    Set this to the number of classes\n",
    "    # Function Definition from Above:\n",
    "    #   output(x_tensor, num_outputs)\n",
    "    \n",
    "    \n",
    "    # TODO: return output\n",
    "    return Output\n",
    "\n",
    "\n",
    "\"\"\"\n",
    "DON'T MODIFY ANYTHING IN THIS CELL THAT IS BELOW THIS LINE\n",
    "\"\"\"\n",
    "\n",
    "##############################\n",
    "## Build the Neural Network ##\n",
    "##############################\n",
    "\n",
    "# Remove previous weights, bias, inputs, etc..\n",
    "tf.reset_default_graph()\n",
    "\n",
    "# Inputs\n",
    "x = neural_net_image_input((32, 32, 3))\n",
    "y = neural_net_label_input(10)\n",
    "keep_prob = neural_net_keep_prob_input()\n",
    "\n",
    "# Model\n",
    "logits = conv_net(x, keep_prob)\n",
    "\n",
    "# Name logits Tensor, so that is can be loaded from disk after training\n",
    "logits = tf.identity(logits, name='logits')\n",
    "\n",
    "# Loss and Optimizer\n",
    "cost = tf.reduce_mean(tf.nn.softmax_cross_entropy_with_logits(logits=logits, labels=y))\n",
    "optimizer = tf.train.AdamOptimizer().minimize(cost)\n",
    "\n",
    "# Accuracy\n",
    "correct_pred = tf.equal(tf.argmax(logits, 1), tf.argmax(y, 1))\n",
    "accuracy = tf.reduce_mean(tf.cast(correct_pred, tf.float32), name='accuracy')\n",
    "\n",
    "tests.test_conv_net(conv_net)"
   ]
  },
  {
   "cell_type": "markdown",
   "metadata": {},
   "source": [
    "## Train the Neural Network\n",
    "### Single Optimization\n",
    "Implement the function `train_neural_network` to do a single optimization.  The optimization should use `optimizer` to optimize in `session` with a `feed_dict` of the following:\n",
    "* `x` for image input\n",
    "* `y` for labels\n",
    "* `keep_prob` for keep probability for dropout\n",
    "\n",
    "This function will be called for each batch, so `tf.global_variables_initializer()` has already been called.\n",
    "\n",
    "Note: Nothing needs to be returned. This function is only optimizing the neural network."
   ]
  },
  {
   "cell_type": "code",
   "execution_count": 95,
   "metadata": {},
   "outputs": [
    {
     "name": "stdout",
     "output_type": "stream",
     "text": [
      "Tests Passed\n"
     ]
    }
   ],
   "source": [
    "def train_neural_network(session, optimizer, keep_probability, feature_batch, label_batch):\n",
    "    \"\"\"\n",
    "    Optimize the session on a batch of images and labels\n",
    "    : session: Current TensorFlow session\n",
    "    : optimizer: TensorFlow optimizer function\n",
    "    : keep_probability: keep probability\n",
    "    : feature_batch: Batch of Numpy image data\n",
    "    : label_batch: Batch of Numpy label data\n",
    "    \"\"\"\n",
    "    # TODO: Implement Function\n",
    "    Feed={x:feature_batch,\n",
    "          y:label_batch,\n",
    "          keep_prob:keep_probability}\n",
    "    session.run(optimizer,feed_dict=Feed)\n",
    "\n",
    "\n",
    "\"\"\"\n",
    "DON'T MODIFY ANYTHING IN THIS CELL THAT IS BELOW THIS LINE\n",
    "\"\"\"\n",
    "tests.test_train_nn(train_neural_network)"
   ]
  },
  {
   "cell_type": "markdown",
   "metadata": {},
   "source": [
    "### Show Stats\n",
    "Implement the function `print_stats` to print loss and validation accuracy.  Use the global variables `valid_features` and `valid_labels` to calculate validation accuracy.  Use a keep probability of `1.0` to calculate the loss and validation accuracy."
   ]
  },
  {
   "cell_type": "code",
   "execution_count": 108,
   "metadata": {},
   "outputs": [],
   "source": [
    "def print_stats(session, feature_batch, label_batch, cost, accuracy):\n",
    "    \"\"\"\n",
    "    Print information about loss and validation accuracy\n",
    "    : session: Current TensorFlow session\n",
    "    : feature_batch: Batch of Numpy image data\n",
    "    : label_batch: Batch of Numpy label data\n",
    "    : cost: TensorFlow cost function\n",
    "    : accuracy: TensorFlow accuracy function\n",
    "    \"\"\"\n",
    "    # TODO: Implement Function\n",
    "    Feed_1={x:feature_batch,\n",
    "          y:label_batch,\n",
    "          keep_prob:1.0}\n",
    "    Feed_2={x:valid_features,\n",
    "            y:valid_labels,\n",
    "            keep_prob:1.0}\n",
    "    Loss,Accuracy=session.run([cost,accuracy],feed_dict=Feed_1)\n",
    "    V_Accuracy=session.run(accuracy,feed_dict=Feed_2)\n",
    "    print('Loss: {}, Train Accuracy: {}, Validation Accuracy: {}'.format(Loss,Accuracy,V_Accuracy))"
   ]
  },
  {
   "cell_type": "markdown",
   "metadata": {},
   "source": [
    "### Hyperparameters\n",
    "Tune the following parameters:\n",
    "* Set `epochs` to the number of iterations until the network stops learning or start overfitting\n",
    "* Set `batch_size` to the highest number that your machine has memory for.  Most people set them to common sizes of memory:\n",
    " * 64\n",
    " * 128\n",
    " * 256\n",
    " * ...\n",
    "* Set `keep_probability` to the probability of keeping a node using dropout"
   ]
  },
  {
   "cell_type": "code",
   "execution_count": 104,
   "metadata": {
    "collapsed": true
   },
   "outputs": [],
   "source": [
    "# TODO: Tune Parameters\n",
    "epochs = 20\n",
    "batch_size = 128\n",
    "keep_probability = 0.7"
   ]
  },
  {
   "cell_type": "markdown",
   "metadata": {},
   "source": [
    "### Train on a Single CIFAR-10 Batch\n",
    "Instead of training the neural network on all the CIFAR-10 batches of data, let's use a single batch. This should save time while you iterate on the model to get a better accuracy.  Once the final validation accuracy is 50% or greater, run the model on all the data in the next section."
   ]
  },
  {
   "cell_type": "code",
   "execution_count": 110,
   "metadata": {},
   "outputs": [
    {
     "name": "stdout",
     "output_type": "stream",
     "text": [
      "Checking the Training on a Single Batch...\n",
      "Epoch  1, CIFAR-10 Batch 1:  Loss: 2.1809780597686768, Train Accuracy: 0.15000000596046448, Validation Accuracy: 0.29019996523857117\n",
      "Epoch  2, CIFAR-10 Batch 1:  Loss: 2.029179811477661, Train Accuracy: 0.3500000238418579, Validation Accuracy: 0.3885999917984009\n",
      "Epoch  3, CIFAR-10 Batch 1:  Loss: 1.9066039323806763, Train Accuracy: 0.3999999761581421, Validation Accuracy: 0.4277999997138977\n",
      "Epoch  4, CIFAR-10 Batch 1:  Loss: 1.8100086450576782, Train Accuracy: 0.4749999940395355, Validation Accuracy: 0.4487999379634857\n",
      "Epoch  5, CIFAR-10 Batch 1:  Loss: 1.7586389780044556, Train Accuracy: 0.5, Validation Accuracy: 0.47679993510246277\n",
      "Epoch  6, CIFAR-10 Batch 1:  Loss: 1.6623778343200684, Train Accuracy: 0.4750000238418579, Validation Accuracy: 0.48239994049072266\n",
      "Epoch  7, CIFAR-10 Batch 1:  Loss: 1.6069350242614746, Train Accuracy: 0.5249999761581421, Validation Accuracy: 0.491599977016449\n",
      "Epoch  8, CIFAR-10 Batch 1:  Loss: 1.5476552248001099, Train Accuracy: 0.5249999761581421, Validation Accuracy: 0.5007999539375305\n",
      "Epoch  9, CIFAR-10 Batch 1:  Loss: 1.4492429494857788, Train Accuracy: 0.5750000476837158, Validation Accuracy: 0.507599949836731\n",
      "Epoch 10, CIFAR-10 Batch 1:  Loss: 1.3640174865722656, Train Accuracy: 0.5750000476837158, Validation Accuracy: 0.5183999538421631\n",
      "Epoch 11, CIFAR-10 Batch 1:  Loss: 1.3226326704025269, Train Accuracy: 0.625, Validation Accuracy: 0.5181999206542969\n",
      "Epoch 12, CIFAR-10 Batch 1:  Loss: 1.2655746936798096, Train Accuracy: 0.625, Validation Accuracy: 0.5229999423027039\n",
      "Epoch 13, CIFAR-10 Batch 1:  Loss: 1.1734673976898193, Train Accuracy: 0.7000000476837158, Validation Accuracy: 0.530799925327301\n",
      "Epoch 14, CIFAR-10 Batch 1:  Loss: 1.1163713932037354, Train Accuracy: 0.6749999523162842, Validation Accuracy: 0.5419999361038208\n",
      "Epoch 15, CIFAR-10 Batch 1:  Loss: 1.0443298816680908, Train Accuracy: 0.7000000476837158, Validation Accuracy: 0.5443999767303467\n",
      "Epoch 16, CIFAR-10 Batch 1:  Loss: 0.9654207229614258, Train Accuracy: 0.7250000238418579, Validation Accuracy: 0.5467999577522278\n",
      "Epoch 17, CIFAR-10 Batch 1:  Loss: 0.9277622699737549, Train Accuracy: 0.7250000238418579, Validation Accuracy: 0.5503999590873718\n",
      "Epoch 18, CIFAR-10 Batch 1:  Loss: 0.8668951392173767, Train Accuracy: 0.75, Validation Accuracy: 0.5567999482154846\n",
      "Epoch 19, CIFAR-10 Batch 1:  Loss: 0.8101418614387512, Train Accuracy: 0.75, Validation Accuracy: 0.5641999244689941\n",
      "Epoch 20, CIFAR-10 Batch 1:  Loss: 0.777830958366394, Train Accuracy: 0.7250000238418579, Validation Accuracy: 0.5619999170303345\n"
     ]
    }
   ],
   "source": [
    "\"\"\"\n",
    "DON'T MODIFY ANYTHING IN THIS CELL\n",
    "\"\"\"\n",
    "print('Checking the Training on a Single Batch...')\n",
    "with tf.Session() as sess:\n",
    "    # Initializing the variables\n",
    "    sess.run(tf.global_variables_initializer())\n",
    "    \n",
    "    # Training cycle\n",
    "    for epoch in range(epochs):\n",
    "        batch_i = 1\n",
    "        for batch_features, batch_labels in helper.load_preprocess_training_batch(batch_i, batch_size):\n",
    "            train_neural_network(sess, optimizer, keep_probability, batch_features, batch_labels)\n",
    "        print('Epoch {:>2}, CIFAR-10 Batch {}:  '.format(epoch + 1, batch_i), end='')\n",
    "        print_stats(sess,  batch_features, batch_labels, cost, accuracy)"
   ]
  },
  {
   "cell_type": "markdown",
   "metadata": {},
   "source": [
    "### Fully Train the Model\n",
    "Now that you got a good accuracy with a single CIFAR-10 batch, try it with all five batches."
   ]
  },
  {
   "cell_type": "code",
   "execution_count": 111,
   "metadata": {},
   "outputs": [
    {
     "name": "stdout",
     "output_type": "stream",
     "text": [
      "Training...\n",
      "Epoch  1, CIFAR-10 Batch 1:  Loss: 2.194394826889038, Train Accuracy: 0.17500001192092896, Validation Accuracy: 0.27559998631477356\n",
      "Epoch  1, CIFAR-10 Batch 2:  Loss: 1.8904093503952026, Train Accuracy: 0.3500000238418579, Validation Accuracy: 0.36979997158050537\n",
      "Epoch  1, CIFAR-10 Batch 3:  Loss: 1.6286811828613281, Train Accuracy: 0.550000011920929, Validation Accuracy: 0.39799997210502625\n",
      "Epoch  1, CIFAR-10 Batch 4:  Loss: 1.6509908437728882, Train Accuracy: 0.32500001788139343, Validation Accuracy: 0.4227999746799469\n",
      "Epoch  1, CIFAR-10 Batch 5:  Loss: 1.6107521057128906, Train Accuracy: 0.5, Validation Accuracy: 0.4487999677658081\n",
      "Epoch  2, CIFAR-10 Batch 1:  Loss: 1.8811836242675781, Train Accuracy: 0.30000001192092896, Validation Accuracy: 0.45639994740486145\n",
      "Epoch  2, CIFAR-10 Batch 2:  Loss: 1.5162653923034668, Train Accuracy: 0.4749999940395355, Validation Accuracy: 0.4651999771595001\n",
      "Epoch  2, CIFAR-10 Batch 3:  Loss: 1.2140816450119019, Train Accuracy: 0.625, Validation Accuracy: 0.47659993171691895\n",
      "Epoch  2, CIFAR-10 Batch 4:  Loss: 1.452472448348999, Train Accuracy: 0.45000001788139343, Validation Accuracy: 0.4803999662399292\n",
      "Epoch  2, CIFAR-10 Batch 5:  Loss: 1.468727707862854, Train Accuracy: 0.5, Validation Accuracy: 0.49239999055862427\n",
      "Epoch  3, CIFAR-10 Batch 1:  Loss: 1.7523610591888428, Train Accuracy: 0.4000000059604645, Validation Accuracy: 0.5043999552726746\n",
      "Epoch  3, CIFAR-10 Batch 2:  Loss: 1.2660456895828247, Train Accuracy: 0.5249999761581421, Validation Accuracy: 0.5041999220848083\n",
      "Epoch  3, CIFAR-10 Batch 3:  Loss: 1.075379490852356, Train Accuracy: 0.6500000357627869, Validation Accuracy: 0.5107999444007874\n",
      "Epoch  3, CIFAR-10 Batch 4:  Loss: 1.310700535774231, Train Accuracy: 0.5, Validation Accuracy: 0.5097999572753906\n",
      "Epoch  3, CIFAR-10 Batch 5:  Loss: 1.3700029850006104, Train Accuracy: 0.625, Validation Accuracy: 0.5195999145507812\n",
      "Epoch  4, CIFAR-10 Batch 1:  Loss: 1.6370577812194824, Train Accuracy: 0.42500001192092896, Validation Accuracy: 0.5223999619483948\n",
      "Epoch  4, CIFAR-10 Batch 2:  Loss: 1.1465516090393066, Train Accuracy: 0.550000011920929, Validation Accuracy: 0.5339999794960022\n",
      "Epoch  4, CIFAR-10 Batch 3:  Loss: 0.9752397537231445, Train Accuracy: 0.7250000238418579, Validation Accuracy: 0.5323998928070068\n",
      "Epoch  4, CIFAR-10 Batch 4:  Loss: 1.2284424304962158, Train Accuracy: 0.5249999761581421, Validation Accuracy: 0.5387999415397644\n",
      "Epoch  4, CIFAR-10 Batch 5:  Loss: 1.2893455028533936, Train Accuracy: 0.6000000238418579, Validation Accuracy: 0.5509999394416809\n",
      "Epoch  5, CIFAR-10 Batch 1:  Loss: 1.5323495864868164, Train Accuracy: 0.5249999761581421, Validation Accuracy: 0.5537998676300049\n",
      "Epoch  5, CIFAR-10 Batch 2:  Loss: 0.9933910965919495, Train Accuracy: 0.6000000238418579, Validation Accuracy: 0.5595999360084534\n",
      "Epoch  5, CIFAR-10 Batch 3:  Loss: 0.8962867259979248, Train Accuracy: 0.6750000715255737, Validation Accuracy: 0.5417999029159546\n",
      "Epoch  5, CIFAR-10 Batch 4:  Loss: 1.154982328414917, Train Accuracy: 0.550000011920929, Validation Accuracy: 0.5639998912811279\n",
      "Epoch  5, CIFAR-10 Batch 5:  Loss: 1.1902549266815186, Train Accuracy: 0.625, Validation Accuracy: 0.5707998871803284\n",
      "Epoch  6, CIFAR-10 Batch 1:  Loss: 1.4245423078536987, Train Accuracy: 0.574999988079071, Validation Accuracy: 0.578999936580658\n",
      "Epoch  6, CIFAR-10 Batch 2:  Loss: 0.9495943784713745, Train Accuracy: 0.6499999761581421, Validation Accuracy: 0.5803999304771423\n",
      "Epoch  6, CIFAR-10 Batch 3:  Loss: 0.8615421056747437, Train Accuracy: 0.6500000357627869, Validation Accuracy: 0.5657999515533447\n",
      "Epoch  6, CIFAR-10 Batch 4:  Loss: 1.0753288269042969, Train Accuracy: 0.550000011920929, Validation Accuracy: 0.5789999961853027\n",
      "Epoch  6, CIFAR-10 Batch 5:  Loss: 1.0860967636108398, Train Accuracy: 0.625, Validation Accuracy: 0.5939999222755432\n",
      "Epoch  7, CIFAR-10 Batch 1:  Loss: 1.3168984651565552, Train Accuracy: 0.6000000238418579, Validation Accuracy: 0.5899999141693115\n",
      "Epoch  7, CIFAR-10 Batch 2:  Loss: 0.8652123808860779, Train Accuracy: 0.6499999761581421, Validation Accuracy: 0.592799961566925\n",
      "Epoch  7, CIFAR-10 Batch 3:  Loss: 0.7492365837097168, Train Accuracy: 0.75, Validation Accuracy: 0.5839999318122864\n",
      "Epoch  7, CIFAR-10 Batch 4:  Loss: 1.0231208801269531, Train Accuracy: 0.5999999642372131, Validation Accuracy: 0.5965998768806458\n",
      "Epoch  7, CIFAR-10 Batch 5:  Loss: 1.0080645084381104, Train Accuracy: 0.7000000476837158, Validation Accuracy: 0.6045998930931091\n",
      "Epoch  8, CIFAR-10 Batch 1:  Loss: 1.2755330801010132, Train Accuracy: 0.6000000238418579, Validation Accuracy: 0.6027998924255371\n",
      "Epoch  8, CIFAR-10 Batch 2:  Loss: 0.7764638662338257, Train Accuracy: 0.7250000238418579, Validation Accuracy: 0.6029999256134033\n",
      "Epoch  8, CIFAR-10 Batch 3:  Loss: 0.6886317729949951, Train Accuracy: 0.8000000715255737, Validation Accuracy: 0.6069998741149902\n",
      "Epoch  8, CIFAR-10 Batch 4:  Loss: 0.9835017919540405, Train Accuracy: 0.6000000238418579, Validation Accuracy: 0.6075999736785889\n",
      "Epoch  8, CIFAR-10 Batch 5:  Loss: 0.9774297475814819, Train Accuracy: 0.75, Validation Accuracy: 0.6063998937606812\n",
      "Epoch  9, CIFAR-10 Batch 1:  Loss: 1.1677396297454834, Train Accuracy: 0.625, Validation Accuracy: 0.6095998883247375\n",
      "Epoch  9, CIFAR-10 Batch 2:  Loss: 0.7479712963104248, Train Accuracy: 0.7250000238418579, Validation Accuracy: 0.6117998957633972\n",
      "Epoch  9, CIFAR-10 Batch 3:  Loss: 0.6366406679153442, Train Accuracy: 0.8500000238418579, Validation Accuracy: 0.6141998767852783\n",
      "Epoch  9, CIFAR-10 Batch 4:  Loss: 0.8674913048744202, Train Accuracy: 0.6749999523162842, Validation Accuracy: 0.6175999045372009\n",
      "Epoch  9, CIFAR-10 Batch 5:  Loss: 0.8590239882469177, Train Accuracy: 0.7750000357627869, Validation Accuracy: 0.6187999248504639\n",
      "Epoch 10, CIFAR-10 Batch 1:  Loss: 1.0324761867523193, Train Accuracy: 0.625, Validation Accuracy: 0.621799886226654\n",
      "Epoch 10, CIFAR-10 Batch 2:  Loss: 0.6548449397087097, Train Accuracy: 0.7250000238418579, Validation Accuracy: 0.6231998205184937\n",
      "Epoch 10, CIFAR-10 Batch 3:  Loss: 0.6035535931587219, Train Accuracy: 0.8250000476837158, Validation Accuracy: 0.6207998991012573\n",
      "Epoch 10, CIFAR-10 Batch 4:  Loss: 0.8126712441444397, Train Accuracy: 0.7000000476837158, Validation Accuracy: 0.6281998157501221\n",
      "Epoch 10, CIFAR-10 Batch 5:  Loss: 0.8186211585998535, Train Accuracy: 0.7750000357627869, Validation Accuracy: 0.6271998882293701\n",
      "Epoch 11, CIFAR-10 Batch 1:  Loss: 0.9330781698226929, Train Accuracy: 0.625, Validation Accuracy: 0.6293998956680298\n",
      "Epoch 11, CIFAR-10 Batch 2:  Loss: 0.625654935836792, Train Accuracy: 0.8250000476837158, Validation Accuracy: 0.6321998238563538\n",
      "Epoch 11, CIFAR-10 Batch 3:  Loss: 0.5427355766296387, Train Accuracy: 0.875, Validation Accuracy: 0.6305999159812927\n",
      "Epoch 11, CIFAR-10 Batch 4:  Loss: 0.7769052982330322, Train Accuracy: 0.7000000476837158, Validation Accuracy: 0.6387999057769775\n",
      "Epoch 11, CIFAR-10 Batch 5:  Loss: 0.7410175800323486, Train Accuracy: 0.8000000715255737, Validation Accuracy: 0.6321998834609985\n",
      "Epoch 12, CIFAR-10 Batch 1:  Loss: 0.8352970480918884, Train Accuracy: 0.6499999761581421, Validation Accuracy: 0.6459999084472656\n",
      "Epoch 12, CIFAR-10 Batch 2:  Loss: 0.6214364171028137, Train Accuracy: 0.8250000476837158, Validation Accuracy: 0.6393998861312866\n",
      "Epoch 12, CIFAR-10 Batch 3:  Loss: 0.513272762298584, Train Accuracy: 0.875, Validation Accuracy: 0.644399881362915\n",
      "Epoch 12, CIFAR-10 Batch 4:  Loss: 0.689293622970581, Train Accuracy: 0.7250000238418579, Validation Accuracy: 0.6447998881340027\n",
      "Epoch 12, CIFAR-10 Batch 5:  Loss: 0.700657308101654, Train Accuracy: 0.8250000476837158, Validation Accuracy: 0.6409999132156372\n",
      "Epoch 13, CIFAR-10 Batch 1:  Loss: 0.822295606136322, Train Accuracy: 0.6499999761581421, Validation Accuracy: 0.6465998888015747\n",
      "Epoch 13, CIFAR-10 Batch 2:  Loss: 0.569103479385376, Train Accuracy: 0.8500000834465027, Validation Accuracy: 0.6409999132156372\n",
      "Epoch 13, CIFAR-10 Batch 3:  Loss: 0.4689348340034485, Train Accuracy: 0.9249999523162842, Validation Accuracy: 0.6501998901367188\n"
     ]
    },
    {
     "name": "stdout",
     "output_type": "stream",
     "text": [
      "Epoch 13, CIFAR-10 Batch 4:  Loss: 0.6266200542449951, Train Accuracy: 0.8250000476837158, Validation Accuracy: 0.6579999327659607\n",
      "Epoch 13, CIFAR-10 Batch 5:  Loss: 0.641772985458374, Train Accuracy: 0.875, Validation Accuracy: 0.643799901008606\n",
      "Epoch 14, CIFAR-10 Batch 1:  Loss: 0.6669523119926453, Train Accuracy: 0.7749999761581421, Validation Accuracy: 0.6577998399734497\n",
      "Epoch 14, CIFAR-10 Batch 2:  Loss: 0.5296504497528076, Train Accuracy: 0.800000011920929, Validation Accuracy: 0.6487998962402344\n",
      "Epoch 14, CIFAR-10 Batch 3:  Loss: 0.4371042251586914, Train Accuracy: 0.949999988079071, Validation Accuracy: 0.6555998921394348\n",
      "Epoch 14, CIFAR-10 Batch 4:  Loss: 0.566626787185669, Train Accuracy: 0.8250000476837158, Validation Accuracy: 0.6577998399734497\n",
      "Epoch 14, CIFAR-10 Batch 5:  Loss: 0.5747972726821899, Train Accuracy: 0.875, Validation Accuracy: 0.65559983253479\n",
      "Epoch 15, CIFAR-10 Batch 1:  Loss: 0.6632786989212036, Train Accuracy: 0.75, Validation Accuracy: 0.6639999151229858\n",
      "Epoch 15, CIFAR-10 Batch 2:  Loss: 0.5367200374603271, Train Accuracy: 0.800000011920929, Validation Accuracy: 0.6605998873710632\n",
      "Epoch 15, CIFAR-10 Batch 3:  Loss: 0.43553897738456726, Train Accuracy: 0.925000011920929, Validation Accuracy: 0.6525998711585999\n",
      "Epoch 15, CIFAR-10 Batch 4:  Loss: 0.5290049910545349, Train Accuracy: 0.8500000238418579, Validation Accuracy: 0.6659998893737793\n",
      "Epoch 15, CIFAR-10 Batch 5:  Loss: 0.5426241159439087, Train Accuracy: 0.925000011920929, Validation Accuracy: 0.6595999002456665\n",
      "Epoch 16, CIFAR-10 Batch 1:  Loss: 0.6291258931159973, Train Accuracy: 0.7250000238418579, Validation Accuracy: 0.6537998914718628\n",
      "Epoch 16, CIFAR-10 Batch 2:  Loss: 0.45351922512054443, Train Accuracy: 0.8750000596046448, Validation Accuracy: 0.6645998954772949\n",
      "Epoch 16, CIFAR-10 Batch 3:  Loss: 0.398573100566864, Train Accuracy: 0.9749999642372131, Validation Accuracy: 0.6591998934745789\n",
      "Epoch 16, CIFAR-10 Batch 4:  Loss: 0.5270049571990967, Train Accuracy: 0.8500000238418579, Validation Accuracy: 0.6633999347686768\n",
      "Epoch 16, CIFAR-10 Batch 5:  Loss: 0.49545174837112427, Train Accuracy: 0.925000011920929, Validation Accuracy: 0.6611998081207275\n",
      "Epoch 17, CIFAR-10 Batch 1:  Loss: 0.5744519233703613, Train Accuracy: 0.7749999761581421, Validation Accuracy: 0.6693997979164124\n",
      "Epoch 17, CIFAR-10 Batch 2:  Loss: 0.45591872930526733, Train Accuracy: 0.8750000596046448, Validation Accuracy: 0.6645998954772949\n",
      "Epoch 17, CIFAR-10 Batch 3:  Loss: 0.34819647669792175, Train Accuracy: 0.9749999642372131, Validation Accuracy: 0.6685998439788818\n",
      "Epoch 17, CIFAR-10 Batch 4:  Loss: 0.48621827363967896, Train Accuracy: 0.875, Validation Accuracy: 0.6727998852729797\n",
      "Epoch 17, CIFAR-10 Batch 5:  Loss: 0.46227359771728516, Train Accuracy: 0.925000011920929, Validation Accuracy: 0.6657998561859131\n",
      "Epoch 18, CIFAR-10 Batch 1:  Loss: 0.647650957107544, Train Accuracy: 0.75, Validation Accuracy: 0.6691998243331909\n",
      "Epoch 18, CIFAR-10 Batch 2:  Loss: 0.4381421208381653, Train Accuracy: 0.8750000596046448, Validation Accuracy: 0.668199896812439\n",
      "Epoch 18, CIFAR-10 Batch 3:  Loss: 0.3630374073982239, Train Accuracy: 1.0, Validation Accuracy: 0.66159987449646\n",
      "Epoch 18, CIFAR-10 Batch 4:  Loss: 0.4929475784301758, Train Accuracy: 0.8750000596046448, Validation Accuracy: 0.6787998676300049\n",
      "Epoch 18, CIFAR-10 Batch 5:  Loss: 0.44021981954574585, Train Accuracy: 0.925000011920929, Validation Accuracy: 0.674599826335907\n",
      "Epoch 19, CIFAR-10 Batch 1:  Loss: 0.5251692533493042, Train Accuracy: 0.8000000715255737, Validation Accuracy: 0.6735998392105103\n",
      "Epoch 19, CIFAR-10 Batch 2:  Loss: 0.44086647033691406, Train Accuracy: 0.8500000834465027, Validation Accuracy: 0.6745998859405518\n",
      "Epoch 19, CIFAR-10 Batch 3:  Loss: 0.33031755685806274, Train Accuracy: 0.9749999642372131, Validation Accuracy: 0.671799898147583\n",
      "Epoch 19, CIFAR-10 Batch 4:  Loss: 0.47369125485420227, Train Accuracy: 0.8500000238418579, Validation Accuracy: 0.6787999272346497\n",
      "Epoch 19, CIFAR-10 Batch 5:  Loss: 0.48862531781196594, Train Accuracy: 0.9000000357627869, Validation Accuracy: 0.6543998718261719\n",
      "Epoch 20, CIFAR-10 Batch 1:  Loss: 0.46140965819358826, Train Accuracy: 0.8250000476837158, Validation Accuracy: 0.6769998073577881\n",
      "Epoch 20, CIFAR-10 Batch 2:  Loss: 0.4339495301246643, Train Accuracy: 0.8750000596046448, Validation Accuracy: 0.6723998785018921\n",
      "Epoch 20, CIFAR-10 Batch 3:  Loss: 0.33605340123176575, Train Accuracy: 0.9749999642372131, Validation Accuracy: 0.6667999029159546\n",
      "Epoch 20, CIFAR-10 Batch 4:  Loss: 0.40744465589523315, Train Accuracy: 0.9000000357627869, Validation Accuracy: 0.6827998757362366\n",
      "Epoch 20, CIFAR-10 Batch 5:  Loss: 0.4548506438732147, Train Accuracy: 0.9000000357627869, Validation Accuracy: 0.664199948310852\n"
     ]
    }
   ],
   "source": [
    "\"\"\"\n",
    "DON'T MODIFY ANYTHING IN THIS CELL\n",
    "\"\"\"\n",
    "save_model_path = './image_classification'\n",
    "\n",
    "print('Training...')\n",
    "with tf.Session() as sess:\n",
    "    # Initializing the variables\n",
    "    sess.run(tf.global_variables_initializer())\n",
    "    \n",
    "    # Training cycle\n",
    "    for epoch in range(epochs):\n",
    "        # Loop over all batches\n",
    "        n_batches = 5\n",
    "        for batch_i in range(1, n_batches + 1):\n",
    "            for batch_features, batch_labels in helper.load_preprocess_training_batch(batch_i, batch_size):\n",
    "                train_neural_network(sess, optimizer, keep_probability, batch_features, batch_labels)\n",
    "            print('Epoch {:>2}, CIFAR-10 Batch {}:  '.format(epoch + 1, batch_i), end='')\n",
    "            print_stats(sess, batch_features, batch_labels, cost, accuracy)\n",
    "            \n",
    "    # Save Model\n",
    "    saver = tf.train.Saver()\n",
    "    save_path = saver.save(sess, save_model_path)"
   ]
  },
  {
   "cell_type": "markdown",
   "metadata": {},
   "source": [
    "# Checkpoint\n",
    "The model has been saved to disk.\n",
    "## Test Model\n",
    "Test your model against the test dataset.  This will be your final accuracy. You should have an accuracy greater than 50%. If you don't, keep tweaking the model architecture and parameters."
   ]
  },
  {
   "cell_type": "code",
   "execution_count": 112,
   "metadata": {},
   "outputs": [
    {
     "name": "stdout",
     "output_type": "stream",
     "text": [
      "Testing Accuracy: 0.6626780063291139\n",
      "\n"
     ]
    },
    {
     "data": {
      "image/png": "[encoded data removed]",
      "text/plain": [
       "<matplotlib.figure.Figure at 0x29c803e5d30>"
      ]
     },
     "metadata": {
      "image/png": {
       "height": 319,
       "width": 355
      }
     },
     "output_type": "display_data"
    }
   ],
   "source": [
    "\"\"\"\n",
    "DON'T MODIFY ANYTHING IN THIS CELL\n",
    "\"\"\"\n",
    "%matplotlib inline\n",
    "%config InlineBackend.figure_format = 'retina'\n",
    "\n",
    "import tensorflow as tf\n",
    "import pickle\n",
    "import helper\n",
    "import random\n",
    "\n",
    "# Set batch size if not already set\n",
    "try:\n",
    "    if batch_size:\n",
    "        pass\n",
    "except NameError:\n",
    "    batch_size = 64\n",
    "\n",
    "save_model_path = './image_classification'\n",
    "n_samples = 4\n",
    "top_n_predictions = 3\n",
    "\n",
    "def test_model():\n",
    "    \"\"\"\n",
    "    Test the saved model against the test dataset\n",
    "    \"\"\"\n",
    "\n",
    "    test_features, test_labels = pickle.load(open('preprocess_test.p', mode='rb'))\n",
    "    loaded_graph = tf.Graph()\n",
    "\n",
    "    with tf.Session(graph=loaded_graph) as sess:\n",
    "        # Load model\n",
    "        loader = tf.train.import_meta_graph(save_model_path + '.meta')\n",
    "        loader.restore(sess, save_model_path)\n",
    "\n",
    "        # Get Tensors from loaded model\n",
    "        loaded_x = loaded_graph.get_tensor_by_name('x:0')\n",
    "        loaded_y = loaded_graph.get_tensor_by_name('y:0')\n",
    "        loaded_keep_prob = loaded_graph.get_tensor_by_name('keep_prob:0')\n",
    "        loaded_logits = loaded_graph.get_tensor_by_name('logits:0')\n",
    "        loaded_acc = loaded_graph.get_tensor_by_name('accuracy:0')\n",
    "        \n",
    "        # Get accuracy in batches for memory limitations\n",
    "        test_batch_acc_total = 0\n",
    "        test_batch_count = 0\n",
    "        \n",
    "        for test_feature_batch, test_label_batch in helper.batch_features_labels(test_features, test_labels, batch_size):\n",
    "            test_batch_acc_total += sess.run(\n",
    "                loaded_acc,\n",
    "                feed_dict={loaded_x: test_feature_batch, loaded_y: test_label_batch, loaded_keep_prob: 1.0})\n",
    "            test_batch_count += 1\n",
    "\n",
    "        print('Testing Accuracy: {}\\n'.format(test_batch_acc_total/test_batch_count))\n",
    "\n",
    "        # Print Random Samples\n",
    "        random_test_features, random_test_labels = tuple(zip(*random.sample(list(zip(test_features, test_labels)), n_samples)))\n",
    "        random_test_predictions = sess.run(\n",
    "            tf.nn.top_k(tf.nn.softmax(loaded_logits), top_n_predictions),\n",
    "            feed_dict={loaded_x: random_test_features, loaded_y: random_test_labels, loaded_keep_prob: 1.0})\n",
    "        helper.display_image_predictions(random_test_features, random_test_labels, random_test_predictions)\n",
    "\n",
    "\n",
    "test_model()"
   ]
  },
  {
   "cell_type": "markdown",
   "metadata": {},
   "source": [
    "## Why 50-80% Accuracy?\n",
    "You might be wondering why you can't get an accuracy any higher. First things first, 50% isn't bad for a simple CNN.  Pure guessing would get you 10% accuracy. However, you might notice people are getting scores [well above 80%](http://rodrigob.github.io/are_we_there_yet/build/classification_datasets_results.html#43494641522d3130).  That's because we haven't taught you all there is to know about neural networks. We still need to cover a few more techniques.\n",
    "## Submitting This Project\n",
    "When submitting this project, make sure to run all the cells before saving the notebook.  Save the notebook file as \"dlnd_image_classification.ipynb\" and save it as a HTML file under \"File\" -> \"Download as\".  Include the \"helper.py\" and \"problem_unittests.py\" files in your submission."
   ]
  }
 ],
 "metadata": {
  "kernelspec": {
   "display_name": "Python 3",
   "language": "python",
   "name": "python3"
  },
  "language_info": {
   "codemirror_mode": {
    "name": "ipython",
    "version": 3
   },
   "file_extension": ".py",
   "mimetype": "text/x-python",
   "name": "python",
   "nbconvert_exporter": "python",
   "pygments_lexer": "ipython3",
   "version": "3.5.2"
  }
 },
 "nbformat": 4,
 "nbformat_minor": 1
}
